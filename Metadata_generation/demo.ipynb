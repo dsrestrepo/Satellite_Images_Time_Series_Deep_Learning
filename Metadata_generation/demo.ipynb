{
 "cells": [
  {
   "cell_type": "markdown",
   "metadata": {},
   "source": [
    "# Data class example"
   ]
  },
  {
   "cell_type": "markdown",
   "metadata": {},
   "source": [
    "### Dataloader demo"
   ]
  },
  {
   "cell_type": "code",
   "execution_count": 1,
   "metadata": {},
   "outputs": [
    {
     "ename": "ModuleNotFoundError",
     "evalue": "No module named 'datasets'",
     "output_type": "error",
     "traceback": [
      "\u001b[0;31m---------------------------------------------------------------------------\u001b[0m",
      "\u001b[0;31mModuleNotFoundError\u001b[0m                       Traceback (most recent call last)",
      "Cell \u001b[0;32mIn [1], line 24\u001b[0m\n\u001b[1;32m     21\u001b[0m \u001b[38;5;28;01mfrom\u001b[39;00m \u001b[38;5;21;01mos\u001b[39;00m \u001b[38;5;28;01mimport\u001b[39;00m listdir\n\u001b[1;32m     22\u001b[0m \u001b[38;5;28;01mfrom\u001b[39;00m \u001b[38;5;21;01mos\u001b[39;00m\u001b[38;5;21;01m.\u001b[39;00m\u001b[38;5;21;01mpath\u001b[39;00m \u001b[38;5;28;01mimport\u001b[39;00m isfile, join\n\u001b[0;32m---> 24\u001b[0m \u001b[38;5;28;01mfrom\u001b[39;00m \u001b[38;5;21;01mdatasets\u001b[39;00m \u001b[38;5;28;01mimport\u001b[39;00m DengueSet_loader\n\u001b[1;32m     26\u001b[0m output_feat \u001b[38;5;241m=\u001b[39m \u001b[38;5;241m2048\u001b[39m\n\u001b[1;32m     28\u001b[0m device \u001b[38;5;241m=\u001b[39m torch\u001b[38;5;241m.\u001b[39mdevice(\u001b[38;5;124m'\u001b[39m\u001b[38;5;124mcuda\u001b[39m\u001b[38;5;124m'\u001b[39m \u001b[38;5;28;01mif\u001b[39;00m torch\u001b[38;5;241m.\u001b[39mcuda\u001b[38;5;241m.\u001b[39mis_available() \u001b[38;5;28;01melse\u001b[39;00m \u001b[38;5;124m'\u001b[39m\u001b[38;5;124mcpu\u001b[39m\u001b[38;5;124m'\u001b[39m)\n",
      "\u001b[0;31mModuleNotFoundError\u001b[0m: No module named 'datasets'"
     ]
    }
   ],
   "source": [
    "import numpy as np\n",
    "from skimage import io\n",
    "import json\n",
    "import matplotlib.pyplot as plt\n",
    "import sklearn.metrics as metrics\n",
    "from torch.utils.data import Dataset, DataLoader\n",
    "import torch\n",
    "import torch.nn.functional as F\n",
    "import torch.nn as nn\n",
    "import torch.optim as optim\n",
    "import torchvision.transforms as transforms\n",
    "import torchvision.models as models\n",
    "\n",
    "from torchvision.datasets.utils import download_file_from_google_drive\n",
    "from torchvision.datasets import ImageFolder\n",
    "from torch.utils.data import DataLoader,Dataset\n",
    "from PIL import Image\n",
    "import os\n",
    "torch.backends.cudnn.deterministic = True\n",
    "torch.backends.cudnn.benchmark = False\n",
    "from os import listdir\n",
    "from os.path import isfile, join\n",
    "\n",
    "from datasets import DengueSet_loader\n",
    "\n",
    "output_feat = 2048\n",
    "\n",
    "device = torch.device('cuda' if torch.cuda.is_available() else 'cpu')\n",
    "\n",
    "root = \"./DATASET/\"\n",
    "train_set = DengueSet_loader(root, train_transform)\n",
    "loader = DataLoader(train_set, batch_size=1)\n",
    "print(len(loader))\n",
    "cont = 0\n",
    "for x, y in loader:\n",
    "        print(x.shape,y)\n",
    "        cont+=1\n",
    "        if cont==1:\n",
    "                break\n",
    "        "
   ]
  },
  {
   "cell_type": "code",
   "execution_count": null,
   "metadata": {},
   "outputs": [
    {
     "data": {
      "text/plain": [
       "{'image_path': 'DATASET/images/23001/image_2018-12-02.tiff',\n",
       " 'municipality_code': 23001,\n",
       " 'date': 201849,\n",
       " 'labels': {'cases': 77,\n",
       "  'binary_classification': 1,\n",
       "  'incidence_ratio': 0,\n",
       "  'multilabel': 1},\n",
       " 'metadata': {'environmental_data': {'temperature': [29.652235658413748],\n",
       "   'precipitation': [0.0],\n",
       "   'elevation': 36.0},\n",
       "  'socioeconomic_data': {'Population': 490935,\n",
       "   'Age0-4(%)': 7.76,\n",
       "   'Age5-14(%)': 26.31,\n",
       "   'Age>30(%)': 48.69,\n",
       "   'AfrocolombianPopulation(%)': 1.7,\n",
       "   'IndianPopulation(%)': 0.71,\n",
       "   'PeoplewithDisabilities(%)': 2.69,\n",
       "   'Peoplewhocannotreadorwrite(%)': 5.93,\n",
       "   'Secondary/HigherEducation(%)': 59.93,\n",
       "   'Employedpopulation(%)': 36.46,\n",
       "   'Unemployedpopulation(%)': 4.61,\n",
       "   'Peopledoinghousework(%)': 17.02,\n",
       "   'Men(%)': 48.51,\n",
       "   'Women(%)': 51.49,\n",
       "   'Householdswithoutwateraccess(%)': 10.07,\n",
       "   'Householdswithoutinternetaccess(%)': 52.84,\n",
       "   'Buildingstratification1(%)': 60.2975,\n",
       "   'Buildingstratification2(%)': 14.4266,\n",
       "   'Buildingstratification3(%)': 6.6937,\n",
       "   'Buildingstratification4(%)': 2.3756,\n",
       "   'Buildingstratification5(%)': 0.8777,\n",
       "   'Buildingstratification6(%)': 0.7190000000000001,\n",
       "   'NumberofhospitalsperKm2': 0.087552,\n",
       "   'NumberofhousesperKm2': 37.051894}}}"
      ]
     },
     "execution_count": 36,
     "metadata": {},
     "output_type": "execute_result"
    }
   ],
   "source": [
    "target_path = \"/home/sebasmos/Desktop/DengueSet/DATASET/annotations/23001/image_2018-12-02.json\"\n",
    "metadata = json.load(open(target_path))\n",
    "metadata"
   ]
  }
 ],
 "metadata": {
  "kernelspec": {
   "display_name": "Python 3.9.7 ('sebasmos')",
   "language": "python",
   "name": "python3"
  },
  "language_info": {
   "codemirror_mode": {
    "name": "ipython",
    "version": 3
   },
   "file_extension": ".py",
   "mimetype": "text/x-python",
   "name": "python",
   "nbconvert_exporter": "python",
   "pygments_lexer": "ipython3",
   "version": "3.9.7"
  },
  "orig_nbformat": 4,
  "vscode": {
   "interpreter": {
    "hash": "ad1edc83c8a3ba973d0a5ed89f8d56b42dac8fe366158fcfa7dfa82a998d469f"
   }
  }
 },
 "nbformat": 4,
 "nbformat_minor": 2
}
